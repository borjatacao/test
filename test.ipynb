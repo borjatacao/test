{
 "cells": [
  {
   "cell_type": "markdown",
   "metadata": {
    "pycharm": {
     "name": "#%%\n"
    }
   },
   "source": [
    "# Big-O Notation: Plots\n",
    "\n",
    "The purpose of this notebook is to visualize the order of growth of some functions used frequently in the algorithm analysis. Note that this is an interactive notebook meaning that besides of just running all the code below you may also fool around with it. Try to plug in you favorite functions and/or change the ranges below and see what happens. Proceed by repeatedly clicking the Run button. To start over, select Kernel -> Restart and Clear Output."
   ]
  },
  {
   "cell_type": "markdown",
   "metadata": {
    "collapsed": true
   },
   "source": [
    "## Definitions\n",
    "\n",
    "We start by reminding the definitions. Consider two functions $f(n)$ and $g(n)$ that are defined for all positive integers and take on non-negative real values. (Some frequently used functions used in algorithm design: $\\log n$, $\\sqrt{n}$, $n\\log n$, $n^3$, $2^n$). We say that **$f$ grows slower than $g$** and write $f \\prec g$, if $\\frac{f(n)}{g(n)}$ goes to 0 as $n$ grows. We say that **$f$ grows no faster than $g$** and write $f \\preceq g$, if there exists a constant $c$ such that $f(n) \\le c \\cdot g(n)$ for all $n$.\n",
    "\n",
    "Three important remarks.\n",
    "1. $f \\prec g$ is the same as $f=o(g)$ (small-o) and $f \\preceq g$ is the same as $f=O(g)$ (big-O). In this notebook, we've decided to stick to the $\\preceq$ notation, since many learners find this notation more intuitive. One source of confusion is the following: many learners are confused by the statement like \"$5n^2=O(n^3)$\". When seeing such a statement, they claim: \"But this is wrong! In fact, $5n^2=O(n^2)$!\" At the same time, both these statements are true: $5n^2=O(n^3)$ and also $5n^2=O(n^2)$. They both just say that $5n^2$ grows no faster than both $n^2$ and $n^3$. In fact, $5n^2$ grows no faster than $n^2$ and grows slower than $n^3$. In $\\preceq$ notation, this is expressed as follows: $5n^2 \\preceq n^2$ and $5n^2 \\preceq n^3$. This resembles comparing integers: if $x=2$, then both statements $x \\le 2$ and $x \\le 3$ are correct.\n",
    "2. Note that if $f \\prec g$, then also $f \\preceq g$. In plain English: if $f$ grows slower than $g$, then $f$ certainly grows no faster than $g$.\n",
    "3. Note that we need to use a fancy $\\preceq$ symbol instead of the standard less-or-equal sign $\\le$, since the latter one is typically used as follows: $f \\le g$ if $f(n) \\le g(n)$ for all $n$. Hence, for example, $5n^2 \\not \\le n^2$, but $5n^2 \\preceq n^2$. "
   ]
  },
  {
   "cell_type": "markdown",
   "metadata": {},
   "source": [
    "## Plotting: two simple examples\n",
    "\n",
    "We start by loading two modules responsible for plotting."
   ]
  },
  {
   "cell_type": "code",
   "execution_count": 3,
   "metadata": {},
   "outputs": [],
   "source": [
    "%matplotlib inline\n",
    "import matplotlib.pyplot as plt\n",
    "import numpy as np"
   ]
  },
  {
   "cell_type": "markdown",
   "metadata": {},
   "source": [
    "Now, plotting a function is as easy as the following three lines of code. It shows the plot of a function $7n^2+6n+5$ in the range $1 \\le n \\le 100$. Note that the scale of the $y$-axis adjusts nicely."
   ]
  },
  {
   "cell_type": "code",
   "execution_count": 4,
   "metadata": {},
   "outputs": [
    {
     "data": {
      "image/png": "[encoded data removed]",
      "text/plain": [
       "<Figure size 432x288 with 1 Axes>"
      ]
     },
     "metadata": {
      "needs_background": "light"
     },
     "output_type": "display_data"
    }
   ],
   "source": [
    "n = np.linspace(1, 100)\n",
    "plt.plot(n, 7 * n * n + 6 * n + 5)\n",
    "plt.show()"
   ]
  },
  {
   "cell_type": "code",
   "execution_count": null,
   "metadata": {},
   "outputs": [],
   "source": []
  }
 ],
 "metadata": {
  "kernelspec": {
   "display_name": "Python 3 (ipykernel)",
   "language": "python",
   "name": "python3"
  },
  "language_info": {
   "codemirror_mode": {
    "name": "ipython",
    "version": 3
   },
   "file_extension": ".py",
   "mimetype": "text/x-python",
   "name": "python",
   "nbconvert_exporter": "python",
   "pygments_lexer": "ipython3",
   "version": "3.9.12"
  }
 },
 "nbformat": 4,
 "nbformat_minor": 1
}
